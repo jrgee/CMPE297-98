{
  "nbformat": 4,
  "nbformat_minor": 0,
  "metadata": {
    "colab": {
      "name": "LeNet and VGG16 for Cats and Dogs.ipynb",
      "provenance": [],
      "collapsed_sections": [],
      "include_colab_link": true
    },
    "kernelspec": {
      "name": "python3",
      "display_name": "Python 3"
    },
    "accelerator": "GPU"
  },
  "cells": [
    {
      "cell_type": "markdown",
      "metadata": {
        "id": "view-in-github",
        "colab_type": "text"
      },
      "source": [
        "<a href=\"https://colab.research.google.com/github/jrgee/CMPE297-98/blob/master/LeNet_and_VGG16_for_Cats_and_Dogs.ipynb\" target=\"_parent\"><img src=\"https://colab.research.google.com/assets/colab-badge.svg\" alt=\"Open In Colab\"/></a>"
      ]
    },
    {
      "cell_type": "code",
      "metadata": {
        "id": "2zUSomdpzgVX",
        "colab_type": "code",
        "outputId": "7bba5161-8edc-44de-c519-3da2d6f7f311",
        "colab": {
          "base_uri": "https://localhost:8080/",
          "height": 189
        }
      },
      "source": [
        "from google.colab import drive\n",
        "drive.mount('/content/drive')\n"
      ],
      "execution_count": 2,
      "outputs": [
        {
          "output_type": "stream",
          "text": [
            "Go to this URL in a browser: https://accounts.google.com/o/oauth2/auth?client_id=947318989803-6bn6qk8qdgf4n4g3pfee6491hc0brc4i.apps.googleusercontent.com&redirect_uri=urn%3Aietf%3Awg%3Aoauth%3A2.0%3Aoob&scope=email%20https%3A%2F%2Fwww.googleapis.com%2Fauth%2Fdocs.test%20https%3A%2F%2Fwww.googleapis.com%2Fauth%2Fdrive%20https%3A%2F%2Fwww.googleapis.com%2Fauth%2Fdrive.photos.readonly%20https%3A%2F%2Fwww.googleapis.com%2Fauth%2Fpeopleapi.readonly&response_type=code\n",
            "\n",
            "Enter your authorization code:\n",
            "··········\n",
            "Mounted at /content/drive\n"
          ],
          "name": "stdout"
        }
      ]
    },
    {
      "cell_type": "code",
      "metadata": {
        "id": "dmsVRiXR87g5",
        "colab_type": "code",
        "outputId": "79c6fed5-6a79-4a62-8b92-3f785326701b",
        "colab": {
          "base_uri": "https://localhost:8080/",
          "height": 1000
        }
      },
      "source": [
        "!pip install tensorflow-gpu"
      ],
      "execution_count": 5,
      "outputs": [
        {
          "output_type": "stream",
          "text": [
            "Collecting tensorflow-gpu\n",
            "\u001b[?25l  Downloading https://files.pythonhosted.org/packages/25/44/47f0722aea081697143fbcf5d2aa60d1aee4aaacb5869aee2b568974777b/tensorflow_gpu-2.0.0-cp36-cp36m-manylinux2010_x86_64.whl (380.8MB)\n",
            "\u001b[K     |████████████████████████████████| 380.8MB 44kB/s \n",
            "\u001b[?25hRequirement already satisfied: gast==0.2.2 in /usr/local/lib/python3.6/dist-packages (from tensorflow-gpu) (0.2.2)\n",
            "Requirement already satisfied: keras-applications>=1.0.8 in /usr/local/lib/python3.6/dist-packages (from tensorflow-gpu) (1.0.8)\n",
            "Requirement already satisfied: numpy<2.0,>=1.16.0 in /usr/local/lib/python3.6/dist-packages (from tensorflow-gpu) (1.17.3)\n",
            "Collecting tensorflow-estimator<2.1.0,>=2.0.0\n",
            "\u001b[?25l  Downloading https://files.pythonhosted.org/packages/fc/08/8b927337b7019c374719145d1dceba21a8bb909b93b1ad6f8fb7d22c1ca1/tensorflow_estimator-2.0.1-py2.py3-none-any.whl (449kB)\n",
            "\u001b[K     |████████████████████████████████| 450kB 33.5MB/s \n",
            "\u001b[?25hRequirement already satisfied: wrapt>=1.11.1 in /usr/local/lib/python3.6/dist-packages (from tensorflow-gpu) (1.11.2)\n",
            "Requirement already satisfied: protobuf>=3.6.1 in /usr/local/lib/python3.6/dist-packages (from tensorflow-gpu) (3.10.0)\n",
            "Requirement already satisfied: grpcio>=1.8.6 in /usr/local/lib/python3.6/dist-packages (from tensorflow-gpu) (1.15.0)\n",
            "Requirement already satisfied: google-pasta>=0.1.6 in /usr/local/lib/python3.6/dist-packages (from tensorflow-gpu) (0.1.7)\n",
            "Requirement already satisfied: wheel>=0.26 in /usr/local/lib/python3.6/dist-packages (from tensorflow-gpu) (0.33.6)\n",
            "Requirement already satisfied: termcolor>=1.1.0 in /usr/local/lib/python3.6/dist-packages (from tensorflow-gpu) (1.1.0)\n",
            "Requirement already satisfied: astor>=0.6.0 in /usr/local/lib/python3.6/dist-packages (from tensorflow-gpu) (0.8.0)\n",
            "Requirement already satisfied: keras-preprocessing>=1.0.5 in /usr/local/lib/python3.6/dist-packages (from tensorflow-gpu) (1.1.0)\n",
            "Collecting tensorboard<2.1.0,>=2.0.0\n",
            "\u001b[?25l  Downloading https://files.pythonhosted.org/packages/9b/a6/e8ffa4e2ddb216449d34cfcb825ebb38206bee5c4553d69e7bc8bc2c5d64/tensorboard-2.0.0-py3-none-any.whl (3.8MB)\n",
            "\u001b[K     |████████████████████████████████| 3.8MB 27.1MB/s \n",
            "\u001b[?25hRequirement already satisfied: absl-py>=0.7.0 in /usr/local/lib/python3.6/dist-packages (from tensorflow-gpu) (0.8.1)\n",
            "Requirement already satisfied: opt-einsum>=2.3.2 in /usr/local/lib/python3.6/dist-packages (from tensorflow-gpu) (3.1.0)\n",
            "Requirement already satisfied: six>=1.10.0 in /usr/local/lib/python3.6/dist-packages (from tensorflow-gpu) (1.12.0)\n",
            "Requirement already satisfied: h5py in /usr/local/lib/python3.6/dist-packages (from keras-applications>=1.0.8->tensorflow-gpu) (2.8.0)\n",
            "Requirement already satisfied: setuptools in /usr/local/lib/python3.6/dist-packages (from protobuf>=3.6.1->tensorflow-gpu) (41.4.0)\n",
            "Requirement already satisfied: markdown>=2.6.8 in /usr/local/lib/python3.6/dist-packages (from tensorboard<2.1.0,>=2.0.0->tensorflow-gpu) (3.1.1)\n",
            "Requirement already satisfied: werkzeug>=0.11.15 in /usr/local/lib/python3.6/dist-packages (from tensorboard<2.1.0,>=2.0.0->tensorflow-gpu) (0.16.0)\n",
            "\u001b[31mERROR: tensorflow 1.15.0 has requirement tensorboard<1.16.0,>=1.15.0, but you'll have tensorboard 2.0.0 which is incompatible.\u001b[0m\n",
            "\u001b[31mERROR: tensorflow 1.15.0 has requirement tensorflow-estimator==1.15.1, but you'll have tensorflow-estimator 2.0.1 which is incompatible.\u001b[0m\n",
            "Installing collected packages: tensorflow-estimator, tensorboard, tensorflow-gpu\n",
            "  Found existing installation: tensorflow-estimator 1.15.1\n",
            "    Uninstalling tensorflow-estimator-1.15.1:\n",
            "      Successfully uninstalled tensorflow-estimator-1.15.1\n",
            "  Found existing installation: tensorboard 1.15.0\n",
            "    Uninstalling tensorboard-1.15.0:\n",
            "      Successfully uninstalled tensorboard-1.15.0\n",
            "Successfully installed tensorboard-2.0.0 tensorflow-estimator-2.0.1 tensorflow-gpu-2.0.0\n"
          ],
          "name": "stdout"
        },
        {
          "output_type": "display_data",
          "data": {
            "application/vnd.colab-display-data+json": {
              "pip_warning": {
                "packages": [
                  "tensorboard",
                  "tensorflow",
                  "tensorflow_core",
                  "tensorflow_estimator"
                ]
              }
            }
          },
          "metadata": {
            "tags": []
          }
        }
      ]
    },
    {
      "cell_type": "code",
      "metadata": {
        "id": "7CuMTlTo3j7H",
        "colab_type": "code",
        "outputId": "b91c6726-38bf-4baf-8f1e-c17ce07b4996",
        "colab": {
          "base_uri": "https://localhost:8080/",
          "height": 80
        }
      },
      "source": [
        "from os import path\n",
        "if not(path.exists('train')):\n",
        "  print('Unzipping files')\n",
        "  !unzip -q '/content/drive/My Drive/297-98/train.zip'\n",
        "  print('finished train')\n",
        "  !unzip -q '/content/drive/My Drive/297-98/val.zip'\n",
        "  print('finished val')\n",
        "else:\n",
        "  print('Already loaded')"
      ],
      "execution_count": 3,
      "outputs": [
        {
          "output_type": "stream",
          "text": [
            "Unzipping files\n",
            "finished train\n",
            "finished val\n"
          ],
          "name": "stdout"
        }
      ]
    },
    {
      "cell_type": "code",
      "metadata": {
        "id": "wttR3YZ6SkZ3",
        "colab_type": "code",
        "outputId": "268f57d0-0f4c-4bf7-a3ba-f4af8e4b114f",
        "colab": {
          "base_uri": "https://localhost:8080/",
          "height": 51
        }
      },
      "source": [
        "import tensorflow as tf\n",
        "from tensorflow import keras\n",
        "import numpy as np\n",
        "import time\n",
        "\n",
        "from tensorflow.keras.layers import Conv2D, AveragePooling2D, MaxPool2D, Flatten, Dense\n",
        "from tensorflow.keras.preprocessing.image import ImageDataGenerator\n",
        "\n",
        "from tensorflow.keras.optimizers import Adam\n",
        "\n",
        "import matplotlib.pyplot as plt\n",
        "\n",
        "print(tf.__version__)\n",
        "print(tf.test.is_gpu_available())"
      ],
      "execution_count": 1,
      "outputs": [
        {
          "output_type": "stream",
          "text": [
            "2.0.0\n",
            "True\n"
          ],
          "name": "stdout"
        }
      ]
    },
    {
      "cell_type": "code",
      "metadata": {
        "id": "pcH3o_rGTc0Z",
        "colab_type": "code",
        "colab": {}
      },
      "source": [
        "def build_lenet():\n",
        "  model = keras.Sequential()\n",
        "\n",
        "  model.add(Conv2D(filters=6, kernel_size=(3,3), activation='relu', input_shape=(32,32,3)))\n",
        "  model.add(AveragePooling2D())\n",
        "  model.add(Conv2D(filters=16, kernel_size=(3, 3), activation='relu'))\n",
        "  model.add(AveragePooling2D())\n",
        "  model.add(Flatten())\n",
        "  model.add(Dense(units=120, activation='relu'))\n",
        "  model.add(Dense(units=84, activation='relu'))\n",
        "  model.add(Dense(units=2, activation = 'softmax'))\n",
        "\n",
        "  return model"
      ],
      "execution_count": 0,
      "outputs": []
    },
    {
      "cell_type": "code",
      "metadata": {
        "id": "pnMODpVgVdFF",
        "colab_type": "code",
        "colab": {}
      },
      "source": [
        "def build_vggnet():\n",
        "  model = keras.Sequential()\n",
        "\n",
        "  model.add(Conv2D(input_shape=(224,224,3),filters=64,kernel_size=(3,3),padding=\"same\", activation=\"relu\"))\n",
        "  model.add(Conv2D(filters=64,kernel_size=(3,3),padding=\"same\", activation=\"relu\"))\n",
        "  model.add(MaxPool2D(pool_size=(2,2),strides=(2,2)))\n",
        "  model.add(Conv2D(filters=128, kernel_size=(3,3), padding=\"same\", activation=\"relu\"))\n",
        "  model.add(Conv2D(filters=128, kernel_size=(3,3), padding=\"same\", activation=\"relu\"))\n",
        "  model.add(MaxPool2D(pool_size=(2,2),strides=(2,2)))\n",
        "  model.add(Conv2D(filters=256, kernel_size=(3,3), padding=\"same\", activation=\"relu\"))\n",
        "  model.add(Conv2D(filters=256, kernel_size=(3,3), padding=\"same\", activation=\"relu\"))\n",
        "  model.add(Conv2D(filters=256, kernel_size=(3,3), padding=\"same\", activation=\"relu\"))\n",
        "  model.add(MaxPool2D(pool_size=(2,2),strides=(2,2)))\n",
        "  model.add(Conv2D(filters=512, kernel_size=(3,3), padding=\"same\", activation=\"relu\"))\n",
        "  model.add(Conv2D(filters=512, kernel_size=(3,3), padding=\"same\", activation=\"relu\"))\n",
        "  model.add(Conv2D(filters=512, kernel_size=(3,3), padding=\"same\", activation=\"relu\"))\n",
        "  model.add(MaxPool2D(pool_size=(2,2),strides=(2,2)))\n",
        "  model.add(Conv2D(filters=512, kernel_size=(3,3), padding=\"same\", activation=\"relu\"))\n",
        "  model.add(Conv2D(filters=512, kernel_size=(3,3), padding=\"same\", activation=\"relu\"))\n",
        "  model.add(Conv2D(filters=512, kernel_size=(3,3), padding=\"same\", activation=\"relu\"))\n",
        "  model.add(MaxPool2D(pool_size=(2,2),strides=(2,2)))\n",
        "\n",
        "  model.add(Flatten())\n",
        "  model.add(Dense(units=4096,activation=\"relu\"))\n",
        "  model.add(Dense(units=4096,activation=\"relu\"))\n",
        "  model.add(Dense(units=2, activation=\"softmax\"))\n",
        "\n",
        "  return model\n"
      ],
      "execution_count": 0,
      "outputs": []
    },
    {
      "cell_type": "code",
      "metadata": {
        "id": "_wcLDG8bsY1I",
        "colab_type": "code",
        "outputId": "f69d6464-afb2-43cd-d764-94a64326494e",
        "colab": {
          "base_uri": "https://localhost:8080/",
          "height": 51
        }
      },
      "source": [
        "BATCH = 64\n",
        "\n",
        "imagegen = ImageDataGenerator()\n",
        "\n",
        "\n",
        "train_lenet = imagegen.flow_from_directory(directory='/content/train',\n",
        "                                           batch_size=BATCH, target_size=(32,32))\n",
        "val_lenet = imagegen.flow_from_directory(directory='/content/val',\n",
        "                                         batch_size=BATCH, target_size=(32,32))"
      ],
      "execution_count": 4,
      "outputs": [
        {
          "output_type": "stream",
          "text": [
            "Found 22778 images belonging to 2 classes.\n",
            "Found 2222 images belonging to 2 classes.\n"
          ],
          "name": "stdout"
        }
      ]
    },
    {
      "cell_type": "code",
      "metadata": {
        "id": "ADqBa1A5Dh1Q",
        "colab_type": "code",
        "outputId": "3d1f97ca-c049-425e-97d4-067a7a4c5b58",
        "colab": {
          "base_uri": "https://localhost:8080/",
          "height": 34
        }
      },
      "source": [
        "print('# of batches in test set: ' + str(len(train_vgg)))"
      ],
      "execution_count": 8,
      "outputs": [
        {
          "output_type": "stream",
          "text": [
            "# of batches in test set: 356\n"
          ],
          "name": "stdout"
        }
      ]
    },
    {
      "cell_type": "code",
      "metadata": {
        "id": "tu-PtW4Gf8Gw",
        "colab_type": "code",
        "colab": {}
      },
      "source": [
        "early = keras.callbacks.EarlyStopping(monitor='val_accuracy', min_delta=0, patience=10, verbose=1, mode='auto')"
      ],
      "execution_count": 0,
      "outputs": []
    },
    {
      "cell_type": "code",
      "metadata": {
        "id": "ILDEvU8bvekF",
        "colab_type": "code",
        "outputId": "d0aaf416-4965-40bd-d4b3-85ed7bd47a67",
        "colab": {
          "base_uri": "https://localhost:8080/",
          "height": 425
        }
      },
      "source": [
        "opt = Adam(lr=0.001)\n",
        "\n",
        "lenet = build_lenet()\n",
        "lenet.compile(optimizer=opt, loss=keras.losses.categorical_crossentropy, metrics=['accuracy'])\n",
        "\n",
        "lenet.summary()"
      ],
      "execution_count": 10,
      "outputs": [
        {
          "output_type": "stream",
          "text": [
            "Model: \"sequential\"\n",
            "_________________________________________________________________\n",
            "Layer (type)                 Output Shape              Param #   \n",
            "=================================================================\n",
            "conv2d (Conv2D)              (None, 30, 30, 6)         168       \n",
            "_________________________________________________________________\n",
            "average_pooling2d (AveragePo (None, 15, 15, 6)         0         \n",
            "_________________________________________________________________\n",
            "conv2d_1 (Conv2D)            (None, 13, 13, 16)        880       \n",
            "_________________________________________________________________\n",
            "average_pooling2d_1 (Average (None, 6, 6, 16)          0         \n",
            "_________________________________________________________________\n",
            "flatten (Flatten)            (None, 576)               0         \n",
            "_________________________________________________________________\n",
            "dense (Dense)                (None, 120)               69240     \n",
            "_________________________________________________________________\n",
            "dense_1 (Dense)              (None, 84)                10164     \n",
            "_________________________________________________________________\n",
            "dense_2 (Dense)              (None, 2)                 170       \n",
            "=================================================================\n",
            "Total params: 80,622\n",
            "Trainable params: 80,622\n",
            "Non-trainable params: 0\n",
            "_________________________________________________________________\n"
          ],
          "name": "stdout"
        }
      ]
    },
    {
      "cell_type": "code",
      "metadata": {
        "id": "gyxeTZPov9bY",
        "colab_type": "code",
        "outputId": "3ca27f29-d9e1-422f-d711-2a1534052cd6",
        "colab": {
          "base_uri": "https://localhost:8080/",
          "height": 1000
        }
      },
      "source": [
        "start = time.time()\n",
        "lenet_history = lenet.fit_generator(generator=train_lenet, epochs=50, steps_per_epoch=len(train_lenet), \n",
        "                                    validation_data=val_lenet, validation_steps=len(val_lenet), callbacks=[early])\n",
        "\n",
        "print('took ' + str((time.time()-start)/60) + ' minutes')"
      ],
      "execution_count": 11,
      "outputs": [
        {
          "output_type": "stream",
          "text": [
            "Epoch 1/50\n",
            "356/356 [==============================] - 75s 209ms/step - loss: 1.1576 - accuracy: 0.5876 - val_loss: 0.6399 - val_accuracy: 0.6535\n",
            "Epoch 2/50\n",
            "356/356 [==============================] - 71s 200ms/step - loss: 0.6057 - accuracy: 0.6710 - val_loss: 0.6016 - val_accuracy: 0.6854\n",
            "Epoch 3/50\n",
            "356/356 [==============================] - 71s 199ms/step - loss: 0.5600 - accuracy: 0.7109 - val_loss: 0.5907 - val_accuracy: 0.6958\n",
            "Epoch 4/50\n",
            "356/356 [==============================] - 70s 198ms/step - loss: 0.5341 - accuracy: 0.7301 - val_loss: 0.5494 - val_accuracy: 0.7277\n",
            "Epoch 5/50\n",
            "356/356 [==============================] - 70s 198ms/step - loss: 0.5017 - accuracy: 0.7530 - val_loss: 0.5588 - val_accuracy: 0.7169\n",
            "Epoch 6/50\n",
            "356/356 [==============================] - 70s 198ms/step - loss: 0.4780 - accuracy: 0.7670 - val_loss: 0.5630 - val_accuracy: 0.7138\n",
            "Epoch 7/50\n",
            "356/356 [==============================] - 70s 198ms/step - loss: 0.4455 - accuracy: 0.7909 - val_loss: 0.5791 - val_accuracy: 0.7097\n",
            "Epoch 8/50\n",
            "356/356 [==============================] - 71s 198ms/step - loss: 0.4178 - accuracy: 0.8065 - val_loss: 0.5908 - val_accuracy: 0.7093\n",
            "Epoch 9/50\n",
            "356/356 [==============================] - 71s 199ms/step - loss: 0.3776 - accuracy: 0.8312 - val_loss: 0.5909 - val_accuracy: 0.7214\n",
            "Epoch 10/50\n",
            "356/356 [==============================] - 70s 198ms/step - loss: 0.3250 - accuracy: 0.8565 - val_loss: 0.6314 - val_accuracy: 0.7160\n",
            "Epoch 11/50\n",
            "356/356 [==============================] - 71s 199ms/step - loss: 0.2989 - accuracy: 0.8699 - val_loss: 0.6332 - val_accuracy: 0.7205\n",
            "Epoch 12/50\n",
            "356/356 [==============================] - 71s 199ms/step - loss: 0.2537 - accuracy: 0.8930 - val_loss: 0.7626 - val_accuracy: 0.7133\n",
            "Epoch 13/50\n",
            "356/356 [==============================] - 71s 199ms/step - loss: 0.2123 - accuracy: 0.9111 - val_loss: 0.7853 - val_accuracy: 0.7084\n",
            "Epoch 14/50\n",
            "356/356 [==============================] - 71s 199ms/step - loss: 0.1887 - accuracy: 0.9232 - val_loss: 0.8673 - val_accuracy: 0.7129\n",
            "Epoch 00014: early stopping\n",
            "took 16.55483421087265 minutes\n"
          ],
          "name": "stdout"
        }
      ]
    },
    {
      "cell_type": "code",
      "metadata": {
        "id": "DnOSk4aNkNj2",
        "colab_type": "code",
        "outputId": "ed77c2b5-3d7e-43fc-94e1-bdc3b8f8912f",
        "colab": {
          "base_uri": "https://localhost:8080/",
          "height": 295
        }
      },
      "source": [
        "plt.plot(lenet_history.history[\"accuracy\"])\n",
        "plt.plot(lenet_history.history['val_accuracy'])\n",
        "plt.plot(lenet_history.history['loss'])\n",
        "plt.plot(lenet_history.history['val_loss'])\n",
        "plt.title(\"Lenet Model Accuracy\")\n",
        "plt.ylabel(\"Accuracy\")\n",
        "plt.xlabel(\"Epoch\")\n",
        "plt.legend([\"Accuracy\",\"Validation Accuracy\",\"loss\",\"Validation Loss\"])\n",
        "plt.show()"
      ],
      "execution_count": 12,
      "outputs": [
        {
          "output_type": "display_data",
          "data": {
            "image/png": "[encoded data removed]",
            "text/plain": [
              "<Figure size 432x288 with 1 Axes>"
            ]
          },
          "metadata": {
            "tags": []
          }
        }
      ]
    },
    {
      "cell_type": "code",
      "metadata": {
        "id": "RaoOipf6kq-b",
        "colab_type": "code",
        "colab": {
          "base_uri": "https://localhost:8080/",
          "height": 901
        },
        "outputId": "626cba14-9bf4-4a8a-98e4-78b719942eb8"
      },
      "source": [
        "opt = Adam(lr=0.002)\n",
        "\n",
        "vgg = build_vggnet()\n",
        "vgg.compile(optimizer=opt, loss=keras.losses.categorical_crossentropy, metrics=['accuracy'])\n",
        "\n",
        "vgg.summary()"
      ],
      "execution_count": 6,
      "outputs": [
        {
          "output_type": "stream",
          "text": [
            "Model: \"sequential\"\n",
            "_________________________________________________________________\n",
            "Layer (type)                 Output Shape              Param #   \n",
            "=================================================================\n",
            "conv2d (Conv2D)              (None, 224, 224, 64)      1792      \n",
            "_________________________________________________________________\n",
            "conv2d_1 (Conv2D)            (None, 224, 224, 64)      36928     \n",
            "_________________________________________________________________\n",
            "max_pooling2d (MaxPooling2D) (None, 112, 112, 64)      0         \n",
            "_________________________________________________________________\n",
            "conv2d_2 (Conv2D)            (None, 112, 112, 128)     73856     \n",
            "_________________________________________________________________\n",
            "conv2d_3 (Conv2D)            (None, 112, 112, 128)     147584    \n",
            "_________________________________________________________________\n",
            "max_pooling2d_1 (MaxPooling2 (None, 56, 56, 128)       0         \n",
            "_________________________________________________________________\n",
            "conv2d_4 (Conv2D)            (None, 56, 56, 256)       295168    \n",
            "_________________________________________________________________\n",
            "conv2d_5 (Conv2D)            (None, 56, 56, 256)       590080    \n",
            "_________________________________________________________________\n",
            "conv2d_6 (Conv2D)            (None, 56, 56, 256)       590080    \n",
            "_________________________________________________________________\n",
            "max_pooling2d_2 (MaxPooling2 (None, 28, 28, 256)       0         \n",
            "_________________________________________________________________\n",
            "conv2d_7 (Conv2D)            (None, 28, 28, 512)       1180160   \n",
            "_________________________________________________________________\n",
            "conv2d_8 (Conv2D)            (None, 28, 28, 512)       2359808   \n",
            "_________________________________________________________________\n",
            "conv2d_9 (Conv2D)            (None, 28, 28, 512)       2359808   \n",
            "_________________________________________________________________\n",
            "max_pooling2d_3 (MaxPooling2 (None, 14, 14, 512)       0         \n",
            "_________________________________________________________________\n",
            "conv2d_10 (Conv2D)           (None, 14, 14, 512)       2359808   \n",
            "_________________________________________________________________\n",
            "conv2d_11 (Conv2D)           (None, 14, 14, 512)       2359808   \n",
            "_________________________________________________________________\n",
            "conv2d_12 (Conv2D)           (None, 14, 14, 512)       2359808   \n",
            "_________________________________________________________________\n",
            "max_pooling2d_4 (MaxPooling2 (None, 7, 7, 512)         0         \n",
            "_________________________________________________________________\n",
            "flatten (Flatten)            (None, 25088)             0         \n",
            "_________________________________________________________________\n",
            "dense (Dense)                (None, 4096)              102764544 \n",
            "_________________________________________________________________\n",
            "dense_1 (Dense)              (None, 4096)              16781312  \n",
            "_________________________________________________________________\n",
            "dense_2 (Dense)              (None, 2)                 8194      \n",
            "=================================================================\n",
            "Total params: 134,268,738\n",
            "Trainable params: 134,268,738\n",
            "Non-trainable params: 0\n",
            "_________________________________________________________________\n"
          ],
          "name": "stdout"
        }
      ]
    },
    {
      "cell_type": "code",
      "metadata": {
        "id": "h-45pzdwE9yb",
        "colab_type": "code",
        "colab": {
          "base_uri": "https://localhost:8080/",
          "height": 51
        },
        "outputId": "887d5703-80ea-495b-bd1f-95f52604f26b"
      },
      "source": [
        "train_vgg = imagegen.flow_from_directory(directory='/content/train',\n",
        "                                         batch_size=BATCH, target_size=(224,224))\n",
        "val_vgg = imagegen.flow_from_directory(directory='/content/val',\n",
        "                                       batch_size=BATCH, target_size=(224,224))"
      ],
      "execution_count": 7,
      "outputs": [
        {
          "output_type": "stream",
          "text": [
            "Found 22778 images belonging to 2 classes.\n",
            "Found 2222 images belonging to 2 classes.\n"
          ],
          "name": "stdout"
        }
      ]
    },
    {
      "cell_type": "code",
      "metadata": {
        "id": "um3-sTmTkw8k",
        "colab_type": "code",
        "colab": {
          "base_uri": "https://localhost:8080/",
          "height": 1000
        },
        "outputId": "ff5953ae-135b-4d87-c16a-821c4dc77350"
      },
      "source": [
        "start = time.time()\n",
        "vgg_history = vgg.fit_generator(generator=train_vgg, epochs=50, steps_per_epoch=len(train_vgg), \n",
        "                                validation_data=val_vgg, validation_steps=len(val_vgg), callbacks=[early])\n",
        "print('took ' + str((time.time()-start)/60) + ' minutes')"
      ],
      "execution_count": 8,
      "outputs": [
        {
          "output_type": "stream",
          "text": [
            "Epoch 1/50\n",
            "356/356 [==============================] - 881s 2s/step - loss: 8.0417 - accuracy: 0.4996 - val_loss: 8.0450 - val_accuracy: 0.5000\n",
            "Epoch 2/50\n",
            "356/356 [==============================] - 852s 2s/step - loss: 8.0592 - accuracy: 0.5000 - val_loss: 8.0506 - val_accuracy: 0.5000\n",
            "Epoch 3/50\n",
            "356/356 [==============================] - 852s 2s/step - loss: 8.0588 - accuracy: 0.5000 - val_loss: 8.0478 - val_accuracy: 0.5000\n",
            "Epoch 4/50\n",
            "356/356 [==============================] - 853s 2s/step - loss: 8.0592 - accuracy: 0.5000 - val_loss: 8.0590 - val_accuracy: 0.5000\n",
            "Epoch 5/50\n",
            "356/356 [==============================] - 852s 2s/step - loss: 8.0595 - accuracy: 0.5000 - val_loss: 8.0590 - val_accuracy: 0.5000\n",
            "Epoch 6/50\n",
            "356/356 [==============================] - 852s 2s/step - loss: 8.0592 - accuracy: 0.5000 - val_loss: 8.0534 - val_accuracy: 0.5000\n",
            "Epoch 7/50\n",
            "356/356 [==============================] - 852s 2s/step - loss: 8.0582 - accuracy: 0.5000 - val_loss: 8.0590 - val_accuracy: 0.5000\n",
            "Epoch 8/50\n",
            "356/356 [==============================] - 851s 2s/step - loss: 8.0588 - accuracy: 0.5000 - val_loss: 8.0759 - val_accuracy: 0.5000\n",
            "Epoch 9/50\n",
            "356/356 [==============================] - 852s 2s/step - loss: 8.0592 - accuracy: 0.5000 - val_loss: 8.0506 - val_accuracy: 0.5000\n",
            "Epoch 10/50\n",
            "356/356 [==============================] - 851s 2s/step - loss: 8.0590 - accuracy: 0.5000 - val_loss: 8.0450 - val_accuracy: 0.5000\n",
            "Epoch 11/50\n",
            "356/356 [==============================] - 851s 2s/step - loss: 8.0591 - accuracy: 0.5000 - val_loss: 8.0562 - val_accuracy: 0.5000\n",
            "Epoch 00011: early stopping\n",
            "took 156.64401755332946 minutes\n"
          ],
          "name": "stdout"
        }
      ]
    },
    {
      "cell_type": "code",
      "metadata": {
        "id": "WHFC_hHlk_jI",
        "colab_type": "code",
        "colab": {
          "base_uri": "https://localhost:8080/",
          "height": 295
        },
        "outputId": "0f950eff-86b0-47f9-eacf-58efbc2242b4"
      },
      "source": [
        "plt.plot(vgg_history.history[\"accuracy\"])\n",
        "plt.plot(vgg_history.history['val_accuracy'])\n",
        "plt.plot(vgg_history.history['loss'])\n",
        "plt.plot(vgg_history.history['val_loss'])\n",
        "plt.title(\"Lenet Model Accuracy\")\n",
        "plt.ylabel(\"Accuracy\")\n",
        "plt.xlabel(\"Epoch\")\n",
        "plt.legend([\"Accuracy\",\"Validation Accuracy\",\"loss\",\"Validation Loss\"])\n",
        "plt.show()"
      ],
      "execution_count": 8,
      "outputs": [
        {
          "output_type": "display_data",
          "data": {
            "image/png": "[encoded data removed]",
            "text/plain": [
              "<Figure size 432x288 with 1 Axes>"
            ]
          },
          "metadata": {
            "tags": []
          }
        }
      ]
    }
  ]
}